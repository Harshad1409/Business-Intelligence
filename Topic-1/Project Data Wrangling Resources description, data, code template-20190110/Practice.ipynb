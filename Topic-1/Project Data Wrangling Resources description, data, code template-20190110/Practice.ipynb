{
 "cells": [
  {
   "cell_type": "code",
   "execution_count": 2,
   "metadata": {},
   "outputs": [],
   "source": [
    "import pandas as pd\n",
    "import glob"
   ]
  },
  {
   "cell_type": "code",
   "execution_count": 39,
   "metadata": {},
   "outputs": [],
   "source": [
    "k = glob.glob(\"data_raw/*\")"
   ]
  },
  {
   "cell_type": "code",
   "execution_count": 45,
   "metadata": {},
   "outputs": [
    {
     "name": "stdout",
     "output_type": "stream",
     "text": [
      "['data_raw\\\\Python-QUIZ Coercion (6 min.)-grades.xlsx', 'data_raw\\\\Python-QUIZ Conditionals (6 min.)-grades.xlsx', 'data_raw\\\\Python-QUIZ Dictionaries (10 min.)-grades.xlsx', 'data_raw\\\\Python-QUIZ Exceptions (10 min.)-grades.xlsx', 'data_raw\\\\Python-QUIZ Functions (18 min.)-grades.xlsx', 'data_raw\\\\Python-QUIZ Iterations (6 min.)-grades.xlsx', 'data_raw\\\\Python-QUIZ Lists (10 min.)-grades.xlsx', 'data_raw\\\\Python-QUIZ Sets (7 min)-grades.xlsx', 'data_raw\\\\Python-QUIZ Strings (5 min.)-grades.xlsx', 'data_raw\\\\Python-QUIZ Taxonomy of Python Data Structures (12 min.)-grades.xlsx', 'data_raw\\\\Python-QUIZ Tuples (10 min.)-grades.xlsx']\n"
     ]
    }
   ],
   "source": [
    "print(k)"
   ]
  },
  {
   "cell_type": "code",
   "execution_count": 47,
   "metadata": {},
   "outputs": [
    {
     "name": "stdout",
     "output_type": "stream",
     "text": [
      "data_raw\\Python-QUIZ Coercion (6 min.)-grades.xlsx\n",
      "data_raw\\Python-QUIZ Conditionals (6 min.)-grades.xlsx\n",
      "data_raw\\Python-QUIZ Dictionaries (10 min.)-grades.xlsx\n",
      "data_raw\\Python-QUIZ Exceptions (10 min.)-grades.xlsx\n",
      "data_raw\\Python-QUIZ Functions (18 min.)-grades.xlsx\n",
      "data_raw\\Python-QUIZ Iterations (6 min.)-grades.xlsx\n",
      "data_raw\\Python-QUIZ Lists (10 min.)-grades.xlsx\n",
      "data_raw\\Python-QUIZ Sets (7 min)-grades.xlsx\n",
      "data_raw\\Python-QUIZ Strings (5 min.)-grades.xlsx\n",
      "data_raw\\Python-QUIZ Taxonomy of Python Data Structures (12 min.)-grades.xlsx\n",
      "data_raw\\Python-QUIZ Tuples (10 min.)-grades.xlsx\n"
     ]
    }
   ],
   "source": [
    "for filename in k:\n",
    "    print(filename)"
   ]
  },
  {
   "cell_type": "code",
   "execution_count": null,
   "metadata": {},
   "outputs": [],
   "source": []
  }
 ],
 "metadata": {
  "kernelspec": {
   "display_name": "Python 3",
   "language": "python",
   "name": "python3"
  },
  "language_info": {
   "codemirror_mode": {
    "name": "ipython",
    "version": 3
   },
   "file_extension": ".py",
   "mimetype": "text/x-python",
   "name": "python",
   "nbconvert_exporter": "python",
   "pygments_lexer": "ipython3",
   "version": "3.6.5"
  }
 },
 "nbformat": 4,
 "nbformat_minor": 2
}
