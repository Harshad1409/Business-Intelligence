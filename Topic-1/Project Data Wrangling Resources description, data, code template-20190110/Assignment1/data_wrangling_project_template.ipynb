{
 "cells": [
  {
   "cell_type": "markdown",
   "metadata": {
    "hideCode": true,
    "hidePrompt": true
   },
   "source": [
    "## Harshad Rathod"
   ]
  },
  {
   "cell_type": "markdown",
   "metadata": {
    "hideCode": true,
    "hidePrompt": true
   },
   "source": [
    "## Project: Data Wrangling using Pandas and Regex\n",
    "\n",
    "In this project you are asked __to implement__ and __perform a unit testing__ for a series of Python functions (Q1-Q13) that are typically required during the ***data wrangling*** phase of the end-to-end data science pipeline. A subset of unit testing functions is provided for you. You are expected to write unit testing for all the remaining functions.\n",
    "\n",
    "__Data Wrangling consists of the following main steps:__\n",
    "\n",
    "* Data Acquisition\n",
    "* Data Cleansing\n",
    "* Data Understanding: Basics\n",
    "* Data Manipulation\n",
    "  \n",
    "  \n",
    "__1. Data Acquisition Objectives__\n",
    "\n",
    "* Question 1: How to import multiples files for storage and access? (store filenames in array)\n",
    "* Question 2: How to import data in different formats? (read_excel, read_csv)\n",
    "* Question 2: How are they read into by pandas? (DataFrame)\n",
    "* Question 4: How to have a peek at the data after import? (head/tail)\n",
    "\n",
    "__2. Data Cleansing Objectives__\n",
    "\n",
    "* Question 5: Check attributes of each file\n",
    "* Question 5: Identify data types\n",
    "* Question 5: Apply coercion if applicable\n",
    "* Question 5: Check for NA/missing data\n",
    "* Question 6: Remove/replace corrupt data\n",
    "* Question 6: Identify duplicate data\n",
    "* Question 6: Check for corrupt/incorrect data  \n",
    "\n",
    "* Check for data consistency (e.g. GPA cannot be less than 0)\n",
    "* Identifying and removing outliers\n",
    "\n",
    "__3. Data Understanding Objectives__\n",
    "\n",
    "* Question 7: Basic Summary Statistics\n",
    "* Question 9: Dimensionality\n",
    "\n",
    "__4. Data Manipulation Objectives__\n",
    "\n",
    "* Question 11: Merge/Concatenate DataFrame\n",
    "* Question 11: Mapping to create a new attribute\n",
    "* Question 11: Incorporate the use of multiple functions\n",
    "* Question 12: Filter to subset the data\n",
    "* Question 13: Discretize data \n",
    "  \n",
    "  \n",
    "__Regular Expressions:__ *Regular expressions are used in conjunction with other preprocessing steps for matching/parsing patterns.*\n",
    "\n",
    "* Questions 2/5/6: Filter to subset the dataUse regular expressions to find/match specific content\n",
    "* Question 6: Filter to subset the dataString manipulation via. substring and replace methods"
   ]
  },
  {
   "cell_type": "markdown",
   "metadata": {
    "hideCode": true,
    "hidePrompt": true
   },
   "source": [
    "## Install Required Packages\n",
    "\n",
    "If you do not have Anaconda installed, then you may need to install the following packages using the following commands (Note: If you have Anaconda installed, then you already have Pandas and `regex`):\n",
    "\n",
    "> pip3 install pandas  \n",
    "  \n",
    "> pip3 install regex\n",
    "\n",
    "## INSTRUCTIONS: In all the functions, remove the `pass` statement and write your code."
   ]
  },
  {
   "cell_type": "code",
   "execution_count": 116,
   "metadata": {
    "hideCode": false,
    "hidePrompt": true
   },
   "outputs": [],
   "source": [
    "import pandas as pd\n",
    "import re\n",
    "import glob\n",
    "import copy\n",
    "import numpy as np\n",
    "%matplotlib inline\n",
    "k = glob.glob(\"data_raw/*\")\n",
    "import matplotlib.pyplot as plt"
   ]
  },
  {
   "cell_type": "markdown",
   "metadata": {
    "hideCode": false,
    "hidePrompt": true
   },
   "source": [
    "### __Question 1: Write a function to import all excel file names into a list.__\n",
    "\n",
    "_Hint: Use the glob module._"
   ]
  },
  {
   "cell_type": "code",
   "execution_count": 117,
   "metadata": {
    "hideCode": false,
    "hidePrompt": true
   },
   "outputs": [
    {
     "name": "stdout",
     "output_type": "stream",
     "text": [
      "['data_raw\\\\Python-QUIZ Coercion (6 min.)-grades.xlsx', 'data_raw\\\\Python-QUIZ Conditionals (6 min.)-grades.xlsx', 'data_raw\\\\Python-QUIZ Dictionaries (10 min.)-grades.xlsx', 'data_raw\\\\Python-QUIZ Exceptions (10 min.)-grades.xlsx', 'data_raw\\\\Python-QUIZ Functions (18 min.)-grades.xlsx', 'data_raw\\\\Python-QUIZ Iterations (6 min.)-grades.xlsx', 'data_raw\\\\Python-QUIZ Lists (10 min.)-grades.xlsx', 'data_raw\\\\Python-QUIZ Sets (7 min)-grades.xlsx', 'data_raw\\\\Python-QUIZ Strings (5 min.)-grades.xlsx', 'data_raw\\\\Python-QUIZ Taxonomy of Python Data Structures (12 min.)-grades.xlsx', 'data_raw\\\\Python-QUIZ Tuples (10 min.)-grades.xlsx']\n"
     ]
    }
   ],
   "source": [
    "def Q1_function():\n",
    "    \n",
    "    \n",
    "    \n",
    "    \"\"\"\n",
    "    :type : None\n",
    "    :rtype: List[String]\n",
    "    \"\"\"\n",
    "    # TYPE YOUR CODE HERE\n",
    "    return glob.glob(\"data_raw/*\")\n",
    "\n",
    "\n",
    "# Call the function and print the result. This result is used in subsequent questions.\n",
    "filenames = Q1_function()\n",
    "print(filenames)"
   ]
  },
  {
   "cell_type": "markdown",
   "metadata": {
    "hideCode": false,
    "hidePrompt": true
   },
   "source": [
    "### __Question 2: Write a function to return the name of the excel file based on a given string. *(The string is defined for you)*__  \n",
    "*Hints: Use the following.*\n",
    "* Regex 're.search' function.\n",
    "* Pandas function 'read_excel'"
   ]
  },
  {
   "cell_type": "code",
   "execution_count": 118,
   "metadata": {
    "hideCode": false,
    "hidePrompt": true
   },
   "outputs": [
    {
     "name": "stdout",
     "output_type": "stream",
     "text": [
      "data_raw\\Python-QUIZ Dictionaries (10 min.)-grades.xlsx\n"
     ]
    }
   ],
   "source": [
    "def Q2_function(files, s):\n",
    "    for filename in files:\n",
    "        if re.search(s,filename):\n",
    "            return filename\n",
    "            \n",
    "    \"\"\"\n",
    "    :type : List[String], String\n",
    "    :rtype: String\n",
    "    \"\"\"\n",
    "    # TYPE YOUR CODE HERE\n",
    "        \n",
    "\n",
    "# Call the function and print the result. Use this to check the correctness of your code and for debugging.\n",
    "file = Q2_function(filenames, s = \"Dictionaries\")\n",
    "print(file)"
   ]
  },
  {
   "cell_type": "markdown",
   "metadata": {
    "hideCode": false,
    "hidePrompt": true
   },
   "source": [
    "### __Question 3: Write a function to load the \"Functions\" excel file into a Pandas DataFrame.__  \n",
    "*Hint: Remember you have executed functions in Questions 1 and 2. Try using them here. You can save some coding time!*  \n",
    "* Use the result from Question 1.\n",
    "* Use the function written in Question 2.\n",
    "* Use the Pandas function 'read_excel' to import an excel file."
   ]
  },
  {
   "cell_type": "code",
   "execution_count": 119,
   "metadata": {
    "hideCode": false,
    "hidePrompt": true
   },
   "outputs": [
    {
     "name": "stdout",
     "output_type": "stream",
     "text": [
      "       State                  Started on                   Completed  \\\n",
      "0   Finished    February 5 2018  3:19 PM    February 5 2018  3:34 PM   \n",
      "1   Finished    February 4 2018  4:01 PM    February 4 2018  4:19 PM   \n",
      "12  Finished    February 6 2018  3:57 PM    February 6 2018  4:12 PM   \n",
      "2   Finished   February 10 2018  4:05 PM   February 10 2018  4:23 PM   \n",
      "3   Finished    February 4 2018  4:59 PM    February 4 2018  5:16 PM   \n",
      "4   Finished    February 5 2018  5:20 PM    February 5 2018  5:38 PM   \n",
      "5   Finished   February 10 2018  9:49 PM  February 10 2018  10:07 PM   \n",
      "6   Finished    February 5 2018  8:30 PM    February 5 2018  8:48 PM   \n",
      "7   Finished   February 13 2018  4:17 AM   February 13 2018  4:35 AM   \n",
      "8   Finished   February 12 2018  2:19 PM   February 12 2018  2:35 PM   \n",
      "9   Finished  February 13 2018  10:45 AM  February 13 2018  11:03 AM   \n",
      "10  Finished   February 11 2018  1:48 AM   February 11 2018  2:06 AM   \n",
      "4   Finished    February 5 2018  5:20 PM    February 5 2018  5:38 PM   \n",
      "5   Finished   February 10 2018  9:49 PM  February 10 2018  10:07 PM   \n",
      "11  Finished   February 13 2018  7:07 PM   February 13 2018  7:20 PM   \n",
      "12  Finished    February 6 2018  3:57 PM    February 6 2018  4:12 PM   \n",
      "13  Finished    February 5 2018  6:52 PM    February 5 2018  7:10 PM   \n",
      "14  Finished  February 13 2018  11:33 AM  February 13 2018  11:51 AM   \n",
      "15  Finished   February 11 2018  3:39 PM   February 11 2018  3:57 PM   \n",
      "6   Finished    February 5 2018  8:30 PM    February 5 2018  8:48 PM   \n",
      "16  Finished   February 6 2018  10:41 AM   February 6 2018  11:30 AM   \n",
      "17  Finished   February 11 2018  4:20 PM   February 11 2018  4:38 PM   \n",
      "18  Finished   February 12 2018  7:52 PM   February 12 2018  8:07 PM   \n",
      "8   Finished   February 12 2018  2:19 PM   February 12 2018  2:35 PM   \n",
      "\n",
      "         Time taken  Grade/45.00  Q. 1 /5.00  Q. 2 /10.00  Q. 3 /6.00  \\\n",
      "0   14 mins 16 secs           32           5            6           6   \n",
      "1   17 mins 54 secs           31           5            8           6   \n",
      "12  15 mins 44 secs           20           3            4           3   \n",
      "2           18 mins           30           5            6           6   \n",
      "3   17 mins 31 secs           26           5            6           6   \n",
      "4   17 mins 59 secs           25           5            6           6   \n",
      "5           18 mins           24           5            6           6   \n",
      "6           18 mins           23           5            6           0   \n",
      "7     18 mins 1 sec           23           4            4           6   \n",
      "8   16 mins 44 secs           22           4            4           6   \n",
      "9     18 mins 1 sec           22           5            8           6   \n",
      "10          18 mins           21           5           10           6   \n",
      "4   17 mins 59 secs           25           5            6           6   \n",
      "5           18 mins           24           5            6           6   \n",
      "11  12 mins 59 secs           21           4            4           3   \n",
      "12  15 mins 44 secs           20           3            4           3   \n",
      "13    18 mins 1 sec           17           4            4           6   \n",
      "14          18 mins           17           5            4           3   \n",
      "15    18 mins 1 sec           16           3            6           3   \n",
      "6           18 mins           23           5            6           0   \n",
      "16  48 mins 39 secs           15           4            2           3   \n",
      "17    18 mins 1 sec           13           3            4           6   \n",
      "18  14 mins 31 secs           13           3            4           6   \n",
      "8   16 mins 44 secs           22           4            4           6   \n",
      "\n",
      "   Q. 4 /6.00 Q. 5 /12.00 Q. 6 /6.00  id  \n",
      "0           0       12.00       0.00   0  \n",
      "1           -       12.00       0.00   1  \n",
      "12          -       10.00       0.00  12  \n",
      "2        3.00       10.00          -   2  \n",
      "3        3.00        6.00       0.00   3  \n",
      "4        6.00        2.00       0.00   4  \n",
      "5        3.00        4.00          -   5  \n",
      "6        0.00        6.00       6.00   6  \n",
      "7        3.00        6.00       0.00   7  \n",
      "8        0.00        8.00       0.00   8  \n",
      "9        3.00           -          -   9  \n",
      "10          -           -          -  10  \n",
      "4        6.00        2.00       0.00   4  \n",
      "5        3.00        4.00          -   5  \n",
      "11       0.00        4.00       6.00  11  \n",
      "12          -       10.00       0.00  12  \n",
      "13       3.00        0.00          -  13  \n",
      "14       3.00        2.00       0.00  14  \n",
      "15       0.00        4.00          -  15  \n",
      "6        0.00        6.00       6.00   6  \n",
      "16       0.00        6.00       0.00  16  \n",
      "17          -           -          -  17  \n",
      "18       0.00        0.00       0.00  18  \n",
      "8        0.00        8.00       0.00   8  \n"
     ]
    }
   ],
   "source": [
    "def Q3_function(files, s):\n",
    "    \n",
    "\n",
    "    \n",
    "    \"\"\"\n",
    "    :type : List[String], String\n",
    "    :rtype: Pandas DataFrame\n",
    "    \"\"\"\n",
    "    # TYPE YOUR CODE HERE\n",
    "    return pd.read_excel(Q2_function(files,s))\n",
    "\n",
    "# Call the function and print the result. This result is used in subsequent questions.\n",
    "functions_df = Q3_function(filenames, s = \"Functions\")\n",
    "print(functions_df)\n",
    "# functions_df.head(3)"
   ]
  },
  {
   "cell_type": "markdown",
   "metadata": {
    "hideCode": false,
    "hidePrompt": true
   },
   "source": [
    "### __Question 4: Using the output obtained in Question 3 as input for the current question, write a function to do the following.__  \n",
    "* Find all the names of the columns and return as a list.\n",
    "* Find the subset of the DataFrame (use `df.loc`) and return the new DataFrame. Include the following columns:   \n",
    "_\"id\", \"Time taken\", \"Grade/45.00\", \"Q. 1 /5.00\", \"Q. 2 /10.00\", \"Q. 3 /6.00\", \"Q. 4 /6.00\", \"Q. 5 /12.00\", \"Q. 6 /6.00\"_\n",
    "* Return the top 10 rows (use `df.head function`).\n",
    "\n",
    "Learn about returning multiple values in Python."
   ]
  },
  {
   "cell_type": "code",
   "execution_count": 120,
   "metadata": {
    "hideCode": false,
    "hidePrompt": true
   },
   "outputs": [
    {
     "name": "stdout",
     "output_type": "stream",
     "text": [
      "Column Names\n",
      "['State', 'Started on', 'Completed', 'Time taken', 'Grade/45.00', 'Q. 1 /5.00', 'Q. 2 /10.00', 'Q. 3 /6.00', 'Q. 4 /6.00', 'Q. 5 /12.00', 'Q. 6 /6.00', 'id']\n",
      "\n",
      "Subsetted Data\n",
      "    id       Time taken  Grade/45.00  Q. 1 /5.00  Q. 2 /10.00  Q. 3 /6.00  \\\n",
      "0    0  14 mins 16 secs           32           5            6           6   \n",
      "1    1  17 mins 54 secs           31           5            8           6   \n",
      "12  12  15 mins 44 secs           20           3            4           3   \n",
      "2    2          18 mins           30           5            6           6   \n",
      "3    3  17 mins 31 secs           26           5            6           6   \n",
      "4    4  17 mins 59 secs           25           5            6           6   \n",
      "5    5          18 mins           24           5            6           6   \n",
      "6    6          18 mins           23           5            6           0   \n",
      "7    7    18 mins 1 sec           23           4            4           6   \n",
      "8    8  16 mins 44 secs           22           4            4           6   \n",
      "9    9    18 mins 1 sec           22           5            8           6   \n",
      "10  10          18 mins           21           5           10           6   \n",
      "4    4  17 mins 59 secs           25           5            6           6   \n",
      "5    5          18 mins           24           5            6           6   \n",
      "11  11  12 mins 59 secs           21           4            4           3   \n",
      "12  12  15 mins 44 secs           20           3            4           3   \n",
      "13  13    18 mins 1 sec           17           4            4           6   \n",
      "14  14          18 mins           17           5            4           3   \n",
      "15  15    18 mins 1 sec           16           3            6           3   \n",
      "6    6          18 mins           23           5            6           0   \n",
      "16  16  48 mins 39 secs           15           4            2           3   \n",
      "17  17    18 mins 1 sec           13           3            4           6   \n",
      "18  18  14 mins 31 secs           13           3            4           6   \n",
      "8    8  16 mins 44 secs           22           4            4           6   \n",
      "\n",
      "   Q. 4 /6.00 Q. 5 /12.00 Q. 6 /6.00  \n",
      "0           0       12.00       0.00  \n",
      "1           -       12.00       0.00  \n",
      "12          -       10.00       0.00  \n",
      "2        3.00       10.00          -  \n",
      "3        3.00        6.00       0.00  \n",
      "4        6.00        2.00       0.00  \n",
      "5        3.00        4.00          -  \n",
      "6        0.00        6.00       6.00  \n",
      "7        3.00        6.00       0.00  \n",
      "8        0.00        8.00       0.00  \n",
      "9        3.00           -          -  \n",
      "10          -           -          -  \n",
      "4        6.00        2.00       0.00  \n",
      "5        3.00        4.00          -  \n",
      "11       0.00        4.00       6.00  \n",
      "12          -       10.00       0.00  \n",
      "13       3.00        0.00          -  \n",
      "14       3.00        2.00       0.00  \n",
      "15       0.00        4.00          -  \n",
      "6        0.00        6.00       6.00  \n",
      "16       0.00        6.00       0.00  \n",
      "17          -           -          -  \n",
      "18       0.00        0.00       0.00  \n",
      "8        0.00        8.00       0.00  \n",
      "\n",
      "Top 10 Rows\n",
      "    id       Time taken  Grade/45.00  Q. 1 /5.00  Q. 2 /10.00  Q. 3 /6.00  \\\n",
      "0    0  14 mins 16 secs           32           5            6           6   \n",
      "1    1  17 mins 54 secs           31           5            8           6   \n",
      "12  12  15 mins 44 secs           20           3            4           3   \n",
      "2    2          18 mins           30           5            6           6   \n",
      "3    3  17 mins 31 secs           26           5            6           6   \n",
      "4    4  17 mins 59 secs           25           5            6           6   \n",
      "5    5          18 mins           24           5            6           6   \n",
      "6    6          18 mins           23           5            6           0   \n",
      "7    7    18 mins 1 sec           23           4            4           6   \n",
      "8    8  16 mins 44 secs           22           4            4           6   \n",
      "\n",
      "   Q. 4 /6.00 Q. 5 /12.00 Q. 6 /6.00  \n",
      "0           0       12.00       0.00  \n",
      "1           -       12.00       0.00  \n",
      "12          -       10.00       0.00  \n",
      "2        3.00       10.00          -  \n",
      "3        3.00        6.00       0.00  \n",
      "4        6.00        2.00       0.00  \n",
      "5        3.00        4.00          -  \n",
      "6        0.00        6.00       6.00  \n",
      "7        3.00        6.00       0.00  \n",
      "8        0.00        8.00       0.00  \n"
     ]
    }
   ],
   "source": [
    "def Q4_function(dataframe):\n",
    "\n",
    "    \"\"\"\n",
    "    :type : DataFrame\n",
    "    :rtype: [String], DataFrame, DataFrame\n",
    "    \"\"\"\n",
    "    # TYPE YOUR CODE HERE\n",
    "    \n",
    "    originalColumns = dataframe.columns\n",
    "    columnsToKeep = []\n",
    "    \n",
    "    for col in dataframe.columns:\n",
    "        if re.search(r'id',col):\n",
    "            columnsToKeep.append(col)\n",
    "    \n",
    "    for col in dataframe.columns:\n",
    "        if re.search(r'Time',col) :\n",
    "            columnsToKeep.append(col)\n",
    "            \n",
    "    for col in dataframe.columns:\n",
    "        if re.search(r'Grade',col) :\n",
    "            columnsToKeep.append(col)\n",
    "            \n",
    "    for col in dataframe.columns:\n",
    "        if  re.search(r'Q',col):\n",
    "            columnsToKeep.append(col)\n",
    "    \n",
    "    dataframe = dataframe.reindex(columns = columnsToKeep)\n",
    "\n",
    "    return list(originalColumns),dataframe, dataframe.head(10)\n",
    "    \n",
    "# Call the function and print the results. These results are used in subsequent questions.\n",
    "names, df_subset, top_10 = Q4_function(functions_df)\n",
    "\n",
    "print(\"Column Names\")\n",
    "print(names)\n",
    "print()\n",
    "print(\"Subsetted Data\")\n",
    "print(df_subset)\n",
    "print()\n",
    "print(\"Top 10 Rows\")\n",
    "print(top_10)"
   ]
  },
  {
   "cell_type": "markdown",
   "metadata": {
    "hideCode": false,
    "hidePrompt": true
   },
   "source": [
    "### Question 5: Using the subsetted DataFrame from the previous question, complete the following tasks.\n",
    "\n",
    "* Identify the data type of every column. Return as a list. *(read about dtypes)*\n",
    "* Strip all white spaces from the columns. \n",
    "    + try using list comprehension along with the 'sub' function in 're' module\n",
    "* Check if 'Time taken' column has NA or empty values:\n",
    "    + use `df.isnull().any()`. \n",
    "    + If YES, replace with 0: use `df.fillna()`.\n",
    "* Using `regex` (`re.search`), convert the 'Time taken' column into seconds (int) and store in a new column called 'time' (e.g., convert __2 mins 10 secs__ into __130__. Note that to get 130, you need to do some math. Use coersion to convert str to int.\n",
    "* Return the DataFrame with 'Time taken' column dropped."
   ]
  },
  {
   "cell_type": "code",
   "execution_count": 121,
   "metadata": {
    "hideCode": false,
    "hidePrompt": true
   },
   "outputs": [
    {
     "name": "stdout",
     "output_type": "stream",
     "text": [
      "Column Datatypes\n",
      "id              int64\n",
      "Time taken     object\n",
      "Grade/45.00     int64\n",
      "Q. 1 /5.00      int64\n",
      "Q. 2 /10.00     int64\n",
      "Q. 3 /6.00      int64\n",
      "Q. 4 /6.00     object\n",
      "Q. 5 /12.00    object\n",
      "Q. 6 /6.00     object\n",
      "dtype: object\n",
      "New Update DataFrame\n",
      "    id  Grade/45.00  Q.1/5.00  Q.2/10.00  Q.3/6.00 Q.4/6.00 Q.5/12.00  \\\n",
      "0    0           32         5          6         6        0     12.00   \n",
      "1    1           31         5          8         6        -     12.00   \n",
      "12  12           20         3          4         3        -     10.00   \n",
      "2    2           30         5          6         6     3.00     10.00   \n",
      "3    3           26         5          6         6     3.00      6.00   \n",
      "4    4           25         5          6         6     6.00      2.00   \n",
      "5    5           24         5          6         6     3.00      4.00   \n",
      "6    6           23         5          6         0     0.00      6.00   \n",
      "7    7           23         4          4         6     3.00      6.00   \n",
      "8    8           22         4          4         6     0.00      8.00   \n",
      "9    9           22         5          8         6     3.00         -   \n",
      "10  10           21         5         10         6        -         -   \n",
      "4    4           25         5          6         6     6.00      2.00   \n",
      "5    5           24         5          6         6     3.00      4.00   \n",
      "11  11           21         4          4         3     0.00      4.00   \n",
      "12  12           20         3          4         3        -     10.00   \n",
      "13  13           17         4          4         6     3.00      0.00   \n",
      "14  14           17         5          4         3     3.00      2.00   \n",
      "15  15           16         3          6         3     0.00      4.00   \n",
      "6    6           23         5          6         0     0.00      6.00   \n",
      "16  16           15         4          2         3     0.00      6.00   \n",
      "17  17           13         3          4         6        -         -   \n",
      "18  18           13         3          4         6     0.00      0.00   \n",
      "8    8           22         4          4         6     0.00      8.00   \n",
      "\n",
      "   Q.6/6.00  time  \n",
      "0      0.00   856  \n",
      "1      0.00  1074  \n",
      "12     0.00   944  \n",
      "2         -  1080  \n",
      "3      0.00  1051  \n",
      "4      0.00  1079  \n",
      "5         -  1080  \n",
      "6      6.00  1080  \n",
      "7      0.00  1080  \n",
      "8      0.00  1004  \n",
      "9         -  1080  \n",
      "10        -  1080  \n",
      "4      0.00  1079  \n",
      "5         -  1080  \n",
      "11     6.00   779  \n",
      "12     0.00   944  \n",
      "13        -  1080  \n",
      "14     0.00  1080  \n",
      "15        -  1080  \n",
      "6      6.00  1080  \n",
      "16     0.00  2919  \n",
      "17        -  1080  \n",
      "18     0.00   871  \n",
      "8      0.00  1004  \n"
     ]
    }
   ],
   "source": [
    "def changeTimeFormate(timeStr):\n",
    "    timeInt = 0\n",
    "    matObj = re.search(r'(\\d+) ([m][i][n][s])',timeStr)\n",
    "    if matObj:\n",
    "        if len(matObj.groups()) > 1:\n",
    "            timeInt = int(matObj.group(1)) * 60\n",
    "        \n",
    "    matObj = re.search(r'(\\d+) ([s][e][c][s])',timeStr)\n",
    "    if matObj:\n",
    "        if len(matObj.groups()) > 1:\n",
    "            timeInt = timeInt + int(matObj.group(1)) \n",
    "\n",
    "    return timeInt\n",
    "\n",
    "def Q5_function(df):\n",
    "\n",
    "    columnDataTypes = df.dtypes\n",
    "    newCols = []\n",
    "    \n",
    "          \n",
    "    for i in df.columns:\n",
    "        newCols.append(re.sub(\" \",\"\",i))\n",
    "\n",
    "    df.columns = newCols\n",
    " \n",
    "    if not df['Timetaken'].isnull().any():\n",
    "        df['Timetaken'].fillna(0)\n",
    "\n",
    "    df['time'] = df['Timetaken'].apply(changeTimeFormate)\n",
    "    df.drop(columns = ['Timetaken'],axis = 1)\n",
    "    df = df.drop(['Timetaken'], axis=1)\n",
    "   \n",
    "    \"\"\"\n",
    "    :type : DataFrame\n",
    "    :rtype: [String], DataFrame\n",
    "    \"\"\"\n",
    "    # TYPE YOUR CODE HERE\n",
    "    return columnDataTypes, df\n",
    "\n",
    "\n",
    "# Call the function and print the results. These results are used in subsequent questions.\n",
    "column_types, Q5_df = Q5_function(df_subset)\n",
    "print(\"Column Datatypes\")\n",
    "print(column_types)\n",
    "print(\"New Update DataFrame\")\n",
    "print(Q5_df)\n"
   ]
  },
  {
   "cell_type": "markdown",
   "metadata": {
    "hideCode": false,
    "hidePrompt": true
   },
   "source": [
    "### Question 6: Using the returned DataFrame from the previous question, complete the following tasks.\n",
    "\n",
    "* Some columns might need to be converted to integer for the subsequent tasks. Identify which columns and convert them to int/float.\n",
    "* Are there any duplicate rows? Remove them from the DataFrame.\n",
    "* Data collected might be corrupt. Check whether data is missing or corrupt. Data is missing if there is a '-'. If missing data exists, replace with the mean of other values.\n",
    "* With the above point in mind, find the mean values of all columns except 'id'. Append these as a row to your dataframe and return\n",
    "\n",
    "*Hint: Note that the maximum marks for each column is different. Make sure you parse the information from the column name.*"
   ]
  },
  {
   "cell_type": "code",
   "execution_count": 139,
   "metadata": {
    "hideCode": false,
    "hidePrompt": true
   },
   "outputs": [
    {
     "name": "stdout",
     "output_type": "stream",
     "text": [
      "    id  Grade/45.00  Q.1/5.00  Q.2/10.00  Q.3/6.00 Q.4/6.00  Q.5/12.00  \\\n",
      "0    0           32         5          6         6        0       12.0   \n",
      "1    1           31         5          8         6        -       12.0   \n",
      "12  12           20         3          4         3        -       10.0   \n",
      "2    2           30         5          6         6     3.00       10.0   \n",
      "3    3           26         5          6         6     3.00        6.0   \n",
      "4    4           25         5          6         6     6.00        2.0   \n",
      "5    5           24         5          6         6     3.00        4.0   \n",
      "6    6           23         5          6         0     0.00        6.0   \n",
      "7    7           23         4          4         6     3.00        6.0   \n",
      "8    8           22         4          4         6     0.00        8.0   \n",
      "9    9           22         5          8         6     3.00        0.0   \n",
      "10  10           21         5         10         6        -        0.0   \n",
      "11  11           21         4          4         3     0.00        4.0   \n",
      "13  13           17         4          4         6     3.00        0.0   \n",
      "14  14           17         5          4         3     3.00        2.0   \n",
      "15  15           16         3          6         3     0.00        4.0   \n",
      "16  16           15         4          2         3     0.00        6.0   \n",
      "17  17           13         3          4         6        -        0.0   \n",
      "18  18           13         3          4         6     0.00        0.0   \n",
      "\n",
      "   Q.6/6.00  time  \n",
      "0      0.00   856  \n",
      "1      0.00  1074  \n",
      "12     0.00   944  \n",
      "2         -  1080  \n",
      "3      0.00  1051  \n",
      "4      0.00  1079  \n",
      "5         -  1080  \n",
      "6      6.00  1080  \n",
      "7      0.00  1080  \n",
      "8      0.00  1004  \n",
      "9         -  1080  \n",
      "10        -  1080  \n",
      "11     6.00   779  \n",
      "13        -  1080  \n",
      "14     0.00  1080  \n",
      "15        -  1080  \n",
      "16     0.00  2919  \n",
      "17        -  1080  \n",
      "18     0.00   871  \n",
      "        id  Grade/45.00  Q.1/5.00  Q.2/10.00  Q.3/6.00  Q.4/6.00  Q.5/12.00  \\\n",
      "0      0.0    32.000000  5.000000   6.000000  6.000000  0.000000  12.000000   \n",
      "1      1.0    31.000000  5.000000   8.000000  6.000000  1.800000  12.000000   \n",
      "12    12.0    20.000000  3.000000   4.000000  3.000000  1.800000  10.000000   \n",
      "2      2.0    30.000000  5.000000   6.000000  6.000000  3.000000  10.000000   \n",
      "3      3.0    26.000000  5.000000   6.000000  6.000000  3.000000   6.000000   \n",
      "4      4.0    25.000000  5.000000   6.000000  6.000000  6.000000   2.000000   \n",
      "5      5.0    24.000000  5.000000   6.000000  6.000000  3.000000   4.000000   \n",
      "6      6.0    23.000000  5.000000   6.000000  0.000000  0.000000   6.000000   \n",
      "7      7.0    23.000000  4.000000   4.000000  6.000000  3.000000   6.000000   \n",
      "8      8.0    22.000000  4.000000   4.000000  6.000000  0.000000   8.000000   \n",
      "9      9.0    22.000000  5.000000   8.000000  6.000000  3.000000   0.000000   \n",
      "10    10.0    21.000000  5.000000  10.000000  6.000000  1.800000   0.000000   \n",
      "11    11.0    21.000000  4.000000   4.000000  3.000000  0.000000   4.000000   \n",
      "13    13.0    17.000000  4.000000   4.000000  6.000000  3.000000   0.000000   \n",
      "14    14.0    17.000000  5.000000   4.000000  3.000000  3.000000   2.000000   \n",
      "15    15.0    16.000000  3.000000   6.000000  3.000000  0.000000   4.000000   \n",
      "16    16.0    15.000000  4.000000   2.000000  3.000000  0.000000   6.000000   \n",
      "17    17.0    13.000000  3.000000   4.000000  6.000000  1.800000   0.000000   \n",
      "18    18.0    13.000000  3.000000   4.000000  6.000000  0.000000   0.000000   \n",
      "mean   NaN    19.348813  5.766982   6.782529  5.835816  4.159165   6.496094   \n",
      "\n",
      "      Q.6/6.00         time  \n",
      "0     0.000000   856.000000  \n",
      "1     0.000000  1074.000000  \n",
      "12    0.000000   944.000000  \n",
      "2     1.000000  1080.000000  \n",
      "3     0.000000  1051.000000  \n",
      "4     0.000000  1079.000000  \n",
      "5     1.000000  1080.000000  \n",
      "6     6.000000  1080.000000  \n",
      "7     0.000000  1080.000000  \n",
      "8     0.000000  1004.000000  \n",
      "9     1.000000  1080.000000  \n",
      "10    1.000000  1080.000000  \n",
      "11    6.000000   779.000000  \n",
      "13    1.000000  1080.000000  \n",
      "14    0.000000  1080.000000  \n",
      "15    1.000000  1080.000000  \n",
      "16    0.000000  2919.000000  \n",
      "17    1.000000  1080.000000  \n",
      "18    0.000000   871.000000  \n",
      "mean  3.603218  1059.235258  \n"
     ]
    }
   ],
   "source": [
    "def Q6_function(df):\n",
    "  \n",
    "    ### Adding columns \n",
    "\n",
    "    \"\"\"\n",
    "    :type : DataFrame\n",
    "    :rtype: DataFrame\n",
    "    \"\"\"\n",
    "    # TYPE YOUR CODE HERE\n",
    "\n",
    "    columnNames = df.columns.tolist()\n",
    "    \n",
    "    df = df.drop_duplicates()\n",
    "    print(df)\n",
    "    df = df.replace('-',np.nan)\n",
    "    \n",
    "    for col in columnNames:\n",
    "        if re.search('Q',col) :\n",
    "            df[col] = df[col].astype('float64')\n",
    "            \n",
    "    \n",
    "    df = df.fillna(df.mean().astype('float64'))\n",
    "\n",
    "    # calculating Mean and Appending it to Last row\n",
    "    value  = df.drop(['id'],axis =1).describe().mean()\n",
    "    df.loc['mean'] = value\n",
    "    return df\n",
    "\n",
    "# Call the function and print the results.\n",
    "Q6_df = Q6_function(Q5_df)\n",
    "print(Q6_df)"
   ]
  },
  {
   "cell_type": "markdown",
   "metadata": {
    "hideCode": false,
    "hidePrompt": true
   },
   "source": [
    "### Question 7: Use previously created functions to load the 'Exceptions' dataset as a dataframe\n",
    "\n",
    "* Calculate the mean of the total grade obtained by the students.\n",
    "* Calculate the standard deviation of the total grade obtained by the students.\n",
    "* Calculate Q1,Q2 and Q3 (quantiles) for the total grade.\n",
    "* Find the maximum and minimum values for the total grade\n",
    "\n",
    "* Return all values rounded to 2 decimal places\n",
    "\n",
    "*Hint: Use the df.describe function*"
   ]
  },
  {
   "cell_type": "code",
   "execution_count": 140,
   "metadata": {
    "hideCode": false,
    "hidePrompt": true
   },
   "outputs": [
    {
     "name": "stdout",
     "output_type": "stream",
     "text": [
      "    id  Grade/21.00  Q.1/7.00 Q.2/4.00  Q.3/6.00  Q.4/4.00  time\n",
      "0    9        18.50         6     4.00       4.5      4.00   549\n",
      "1    5        17.50         5     4.00       4.5      4.00   450\n",
      "2    6        17.17         6     4.00       4.5      2.67   480\n",
      "3   17        17.00         6     1.00       6.0      4.00   394\n",
      "4   15        16.50         5     3.00       4.5      4.00   350\n",
      "5    7        16.00         6     3.00       3.0      4.00   600\n",
      "6   12        15.17         5     3.00       4.5      2.67   382\n",
      "7    1        14.83         5     4.00       4.5      1.33   532\n",
      "8    8        14.50         6     3.00       1.5      4.00   417\n",
      "9    4        14.33         7     3.00       3.0      1.33   244\n",
      "10  10        13.83         5     3.00       4.5      1.33   600\n",
      "11  13        13.50         6     2.00       1.5      4.00   600\n",
      "12   0        13.33         6     3.00       3.0      1.33   468\n",
      "13   3        13.00         6        -       3.0      4.00   281\n",
      "14  18        11.33         6     1.00       3.0      1.33   140\n",
      "15  16        10.83         6     2.00       1.5      1.33  2417\n",
      "Mean: 14.83\n",
      "Std. Dev.: 2.19\n",
      "First Quantile 13.46\n",
      "Second Quantile 14.66\n",
      "Third Quantile 16.62\n",
      "Max: 18.5\n",
      "Min: 10.83\n"
     ]
    }
   ],
   "source": [
    "def Q7_function(file):\n",
    "\n",
    "    \"\"\"\n",
    "    :type : String\n",
    "    :rtype: Float\n",
    "    \"\"\"\n",
    "    Q7_filenames = Q1_function()\n",
    "    Q7_functions_df = Q3_function(Q7_filenames, s = file)\n",
    "    Q7_names, Q7_df_subset, Q7_top_10 = Q4_function(Q7_functions_df)    \n",
    "    column_types, Q7_Q5_df = Q5_function(Q7_df_subset)    \n",
    "    Q7_Q6_df = Q6_function(Q7_Q5_df)    \n",
    "    \n",
    "    for col in Q7_Q6_df:\n",
    "        if re.search('Grade',col):\n",
    "            totalGradCol = col\n",
    "            break\n",
    "    Q7_Q6_df.drop(Q7_Q6_df.tail(1).index, inplace = True)\n",
    "    \n",
    "    mean_ = round(Q7_Q6_df[totalGradCol].mean(),2)\n",
    "    std_ = round(Q7_Q6_df[totalGradCol].std(),2)\n",
    "    q1 = round(Q7_Q6_df[totalGradCol].quantile(0.25),2)\n",
    "    q2 = round(Q7_Q6_df[totalGradCol].quantile(0.5),2)\n",
    "    q3 = round(Q7_Q6_df[totalGradCol].quantile(0.75),2)\n",
    "    max_ = round(Q7_Q6_df[totalGradCol].max(),2)\n",
    "    min_ = round(Q7_Q6_df[totalGradCol].min(),2)\n",
    "\n",
    "    return mean_,std_,q1,q2,q3,max_,min_ \n",
    "    \n",
    "# Call the function and print the results.\n",
    "mean_,std_,q1,q2,q3,max_,min_ = Q7_function(file=\"Exceptions\")\n",
    "print(\"Mean:\", mean_)\n",
    "print(\"Std. Dev.:\", std_)\n",
    "print(\"First Quantile\", q1)\n",
    "print(\"Second Quantile\", q2)\n",
    "print(\"Third Quantile\", q3)\n",
    "print(\"Max:\", max_)\n",
    "print(\"Min:\", min_)"
   ]
  },
  {
   "cell_type": "markdown",
   "metadata": {
    "hideCode": false,
    "hidePrompt": true
   },
   "source": [
    "### Question 8: Create a boxplot of the grade distribution in the 'Exceptions' dataset.\n",
    "\n",
    "* Compare the plot lines to the values calculated in the previous question.\n",
    "* Use df.plot.box function."
   ]
  },
  {
   "cell_type": "code",
   "execution_count": 141,
   "metadata": {
    "hideCode": false,
    "hidePrompt": true,
    "scrolled": true
   },
   "outputs": [
    {
     "name": "stdout",
     "output_type": "stream",
     "text": [
      "    id  Grade/21.00  Q.1/7.00 Q.2/4.00  Q.3/6.00  Q.4/4.00  time\n",
      "0    9        18.50         6     4.00       4.5      4.00   549\n",
      "1    5        17.50         5     4.00       4.5      4.00   450\n",
      "2    6        17.17         6     4.00       4.5      2.67   480\n",
      "3   17        17.00         6     1.00       6.0      4.00   394\n",
      "4   15        16.50         5     3.00       4.5      4.00   350\n",
      "5    7        16.00         6     3.00       3.0      4.00   600\n",
      "6   12        15.17         5     3.00       4.5      2.67   382\n",
      "7    1        14.83         5     4.00       4.5      1.33   532\n",
      "8    8        14.50         6     3.00       1.5      4.00   417\n",
      "9    4        14.33         7     3.00       3.0      1.33   244\n",
      "10  10        13.83         5     3.00       4.5      1.33   600\n",
      "11  13        13.50         6     2.00       1.5      4.00   600\n",
      "12   0        13.33         6     3.00       3.0      1.33   468\n",
      "13   3        13.00         6        -       3.0      4.00   281\n",
      "14  18        11.33         6     1.00       3.0      1.33   140\n",
      "15  16        10.83         6     2.00       1.5      1.33  2417\n"
     ]
    },
    {
     "data": {
      "text/plain": [
       "<matplotlib.axes._subplots.AxesSubplot at 0x20b8cad11d0>"
      ]
     },
     "execution_count": 141,
     "metadata": {},
     "output_type": "execute_result"
    },
    {
     "data": {
      "image/png": "[encoded data removed]",
      "text/plain": [
       "<Figure size 432x288 with 1 Axes>"
      ]
     },
     "metadata": {
      "needs_background": "light"
     },
     "output_type": "display_data"
    }
   ],
   "source": [
    "def Q8_function(file):\n",
    "    \n",
    "\n",
    "    \n",
    "    \n",
    "    \"\"\"\n",
    "    :type : String\n",
    "    :rtype: Plot\n",
    "    \"\"\"\n",
    "    mean_,std_,q1,q2,q3,max_,min_ = Q7_function(file)    \n",
    "    df = Q3_function(filenames, file)\n",
    "    Q8_plot = df[['Grade/21.00']].plot.box(return_type='axes')\n",
    "\n",
    "    return Q8_plot\n",
    "\n",
    "\n",
    "# Call the function. Plot will display.\n",
    "Q8_function(file='Exceptions')"
   ]
  },
  {
   "cell_type": "markdown",
   "metadata": {
    "hideCode": false,
    "hidePrompt": true
   },
   "source": [
    "### Question 9: Return the number of rows and columns present in the 'Strings' dataset\n",
    "\n",
    "* Use the `df.shape` attribute."
   ]
  },
  {
   "cell_type": "code",
   "execution_count": 142,
   "metadata": {
    "hideCode": false,
    "hidePrompt": true
   },
   "outputs": [
    {
     "name": "stdout",
     "output_type": "stream",
     "text": [
      "Rows: 17\n",
      "Columns: 7\n"
     ]
    }
   ],
   "source": [
    "def Q9_function(file):\n",
    "     \n",
    "    \"\"\"\n",
    "    :type : String\n",
    "    :rtype: list\n",
    "    \"\"\" \n",
    "    # TYPE YOUR CODE HERE\n",
    "    \n",
    "    df = Q3_function(filenames, file)\n",
    "    \n",
    "    rows, cols = df.shape\n",
    "    \n",
    "    return rows,cols\n",
    "\n",
    "\n",
    "# Call the function and print the results\n",
    "rows, columns = Q9_function (file='Strings')\n",
    "print(\"Rows:\",rows)\n",
    "print(\"Columns:\",columns)"
   ]
  },
  {
   "cell_type": "markdown",
   "metadata": {
    "hideCode": false,
    "hidePrompt": true
   },
   "source": [
    "### Question 10: Use the output from Question 5. Group the students based on their score in 'Q. 5 /12.00' column\n",
    "\n",
    "* Which students scored 0 \n",
    "* How many students achieved the maximum possible score\n",
    "* Consider NA/missing values as 0\n",
    "\n",
    "*Hint : Use groupby function.*\n"
   ]
  },
  {
   "cell_type": "code",
   "execution_count": 143,
   "metadata": {
    "hideCode": false,
    "hidePrompt": true
   },
   "outputs": [
    {
     "name": "stdout",
     "output_type": "stream",
     "text": [
      "Students scoring zero : [9, 10, 13, 17, 18]\n",
      "Number of students with maximum score : 12\n"
     ]
    }
   ],
   "source": [
    "def Q10_function(df):\n",
    "    \n",
    "  \n",
    "    \n",
    "    \"\"\"\n",
    "    :type : DataFrame\n",
    "    :rtype: list, int\n",
    "    \"\"\" \n",
    "    # TYPE YOUR CODE HERE\n",
    "    \n",
    "    for col in df.columns:\n",
    "        if re.search('Q.5',col):\n",
    "            colQ5 = col\n",
    "            break\n",
    "    df[colQ5] = df[colQ5].replace('-',np.nan).replace(np.nan,0)\n",
    "    df[colQ5] = df[colQ5].astype('float64')\n",
    "    df[colQ5].fillna(0)\n",
    "    groups  = df.groupby(colQ5).groups\n",
    "    ids = df.loc[groups[0].values,'id']\n",
    "\n",
    "    \n",
    "    return list(groups[0].values),int(df[colQ5].max())\n",
    "\n",
    "# Call the function and print the results\n",
    "zero, maximum = Q10_function(Q6_df)\n",
    "print(\"Students scoring zero :\",zero)\n",
    "print(\"Number of students with maximum score :\",maximum)"
   ]
  },
  {
   "cell_type": "markdown",
   "metadata": {
    "hideCode": false,
    "hidePrompt": true
   },
   "source": [
    "### Question 11: Find out who ('id') has scored the maximum combined score in the 'Tuples' and 'Taxonomy' quiz.\n",
    "\n",
    "* Use the `pd.merge()` function.\n",
    "* Call the function you wrote for Question 5 to convert time and remove spaces in columns (will be used in later questions).\n",
    "* Create a new column 'Total_score' which is the sum of the scores of the two quizzes."
   ]
  },
  {
   "cell_type": "code",
   "execution_count": 144,
   "metadata": {
    "hideCode": false,
    "hidePrompt": true
   },
   "outputs": [
    {
     "name": "stdout",
     "output_type": "stream",
     "text": [
      "Max scorer : 10\n"
     ]
    }
   ],
   "source": [
    "def Q11_function():\n",
    "    \n",
    "    \"\"\"\n",
    "    :type : None\n",
    "    :rtype: Dataframe, int\n",
    "    \"\"\" \n",
    "    # TYPE YOUR CODE HERE\n",
    "    Q11_filenames = Q1_function()\n",
    "    df1 = Q3_function(filenames, s = \"Tuples\")\n",
    "    df2 = Q3_function(filenames, s = \"Taxonomy\")\n",
    "    \n",
    "    names, df_subset1, top_10 = Q4_function(df1)   \n",
    "    names, df_subset2, top_10 = Q4_function(df2)   \n",
    "    \n",
    "    column_types, Q5_df1 = Q5_function(df_subset1)\n",
    "    column_types, Q5_df2 = Q5_function(df_subset2)\n",
    "    \n",
    "    newDataFrame = pd.merge(Q5_df1,Q5_df2,how = 'outer', on = 'id')\n",
    "            \n",
    "\n",
    "    colGrades = []\n",
    "    for col in newDataFrame.columns:\n",
    "        if re.search('Grade',col):\n",
    "            colGrades.append(col)\n",
    "    \n",
    "    newDataFrame['Total_score'] = newDataFrame[colGrades[0]].values + newDataFrame[colGrades[1]].values\n",
    "    max_scorer = newDataFrame.loc[newDataFrame['Total_score'].idxmax(),'id']\n",
    "\n",
    "    return newDataFrame,max_scorer\n",
    "\n",
    "\n",
    "# Call the function and print the results. The DataFrame will be used in subsequent questions\n",
    "Q11_df,max_scorer = Q11_function()\n",
    "print(\"Max scorer :\",max_scorer)"
   ]
  },
  {
   "cell_type": "markdown",
   "metadata": {
    "hideCode": false,
    "hidePrompt": true
   },
   "source": [
    "### Question 12: Use the DataFrame generated in Question 11 and return the list of ids whose total time for both quizzes is less than than 20 minutes.\n",
    "\n",
    "* Sort the list before returning.\n",
    "* Can you code it in one line?"
   ]
  },
  {
   "cell_type": "code",
   "execution_count": 145,
   "metadata": {
    "hideCode": false,
    "hidePrompt": true
   },
   "outputs": [
    {
     "name": "stdout",
     "output_type": "stream",
     "text": [
      "ID of students : [3, 4, 7, 8, 12, 18]\n"
     ]
    }
   ],
   "source": [
    "def Q12_function(df):\n",
    "    \n",
    "    \"\"\"\n",
    "    :type : DataFrame\n",
    "    :rtype: list(int)\n",
    "    \"\"\" \n",
    "    timeTaken = []\n",
    "    for colName in Q11_df.columns:\n",
    "        if re.search('time',colName):\n",
    "            timeTaken.append(colName)\n",
    "    \n",
    "    return  sorted( list(df[( df[timeTaken[0]]  + df[timeTaken[1]]  < 1200 )]['id']))\n",
    "\n",
    "\n",
    "\n",
    "# Call the function and print the results.\n",
    "ids = Q12_function(Q11_df)\n",
    "print(\"ID of students :\",ids)"
   ]
  },
  {
   "cell_type": "markdown",
   "metadata": {
    "hideCode": false,
    "hidePrompt": true
   },
   "source": [
    "### Question 13: Discretize the column 'Grade/45.00' for the DataFrame generated in Question 6 and create a new column. Find the number of people (id) per bin. Return a DataFrame with only the bins and count per bin.\n",
    "\n",
    "*Hints:* \n",
    "* _Use 'cut' and 'groupby'._\n",
    "* _Include the overall average in the groupings._\n",
    "* _You won't need to use 'drop' to drop columns. Use groupby and check the result._\n",
    "* _Use 5 bins_\n",
    "* Don't consider 'Overall Average' row."
   ]
  },
  {
   "cell_type": "code",
   "execution_count": 146,
   "metadata": {
    "hideCode": false,
    "hidePrompt": true
   },
   "outputs": [
    {
     "name": "stdout",
     "output_type": "stream",
     "text": [
      "0           [15, 16, 17, 18]\n",
      "1               [12, 13, 14]\n",
      "2    [5, 6, 7, 8, 9, 10, 11]\n",
      "3                     [3, 4]\n",
      "4                  [0, 1, 2]\n",
      "Name: count, dtype: object\n"
     ]
    }
   ],
   "source": [
    "def Q13_function(df):\n",
    "    \n",
    "    \"\"\"\n",
    "    :type : DataFrame\n",
    "    :rtype: DataFrame\n",
    "    \"\"\"    \n",
    "    # TYPE YOUR CODE HERE\n",
    "    bins  = pd.cut(df['Grade/45.00'], bins = 5 )\n",
    "    bins = pd.DataFrame(bins)\n",
    "    bins.columns =['Bins']\n",
    "    df1= pd.concat([df, bins], axis = 1)\n",
    "    df1 = df1.head(-1)\n",
    "    binSeries = []\n",
    "    indexSeries = []\n",
    "    for key,value in df1.groupby('Bins').groups.items():\n",
    "        value = [int(i) for i in value]\n",
    "        indexSeries.append(list(value))\n",
    "        binSeries.append(str(key))\n",
    "\n",
    "        \n",
    "    return pd.DataFrame({'Bin':binSeries,'count':indexSeries})['count']\n",
    "\n",
    "\n",
    "\n",
    "\n",
    "# Call the function and print the results.\n",
    "Q13_df = Q13_function(Q6_df)\n",
    "print(Q13_df)"
   ]
  },
  {
   "cell_type": "markdown",
   "metadata": {
    "hideCode": false,
    "hidePrompt": true
   },
   "source": [
    "### INSTRUCTIONS: Complete unit testing for the remaining functions to check correctness of your code."
   ]
  },
  {
   "cell_type": "code",
   "execution_count": 148,
   "metadata": {
    "hideCode": false,
    "hidePrompt": true
   },
   "outputs": [
    {
     "name": "stderr",
     "output_type": "stream",
     "text": [
      "test_Q01_function (__main__.TestNotebook) ... ok\n",
      "test_Q02_function (__main__.TestNotebook) ... ok\n",
      "test_Q03_function (__main__.TestNotebook) ... ok\n",
      "test_Q04_function (__main__.TestNotebook) ... ok\n",
      "test_Q05_function (__main__.TestNotebook) ... ok\n",
      "test_Q07_function (__main__.TestNotebook) ... ok\n",
      "test_Q08_function (__main__.TestNotebook) ... ok\n",
      "test_Q09_function (__main__.TestNotebook) ... ok\n",
      "test_Q10_function (__main__.TestNotebook) ... ok\n",
      "test_Q11_functions (__main__.TestNotebook) ... ok\n",
      "test_Q12_function (__main__.TestNotebook) ... ok\n",
      "test_Q13_function (__main__.TestNotebook) ... ok\n",
      "\n",
      "----------------------------------------------------------------------\n",
      "Ran 12 tests in 0.074s\n",
      "\n",
      "OK\n"
     ]
    },
    {
     "data": {
      "text/plain": [
       "<unittest.main.TestProgram at 0x20b8dc939e8>"
      ]
     },
     "execution_count": 148,
     "metadata": {},
     "output_type": "execute_result"
    }
   ],
   "source": [
    "import unittest\n",
    "\n",
    "class TestNotebook(unittest.TestCase):\n",
    "\n",
    "    def test_Q01_function(self):\n",
    "        ans = ['data_raw\\\\Python-QUIZ Coercion (6 min.)-grades.xlsx', 'data_raw\\\\Python-QUIZ Conditionals (6 min.)-grades.xlsx', 'data_raw\\\\Python-QUIZ Dictionaries (10 min.)-grades.xlsx', 'data_raw\\\\Python-QUIZ Exceptions (10 min.)-grades.xlsx', 'data_raw\\\\Python-QUIZ Functions (18 min.)-grades.xlsx', 'data_raw\\\\Python-QUIZ Iterations (6 min.)-grades.xlsx', 'data_raw\\\\Python-QUIZ Lists (10 min.)-grades.xlsx', 'data_raw\\\\Python-QUIZ Sets (7 min)-grades.xlsx', 'data_raw\\\\Python-QUIZ Strings (5 min.)-grades.xlsx', 'data_raw\\\\Python-QUIZ Taxonomy of Python Data Structures (12 min.)-grades.xlsx', 'data_raw\\\\Python-QUIZ Tuples (10 min.)-grades.xlsx']\n",
    "        result = Q1_function()\n",
    "        self.assertEqual(ans,result)\n",
    "        \n",
    "    def test_Q02_function(self):\n",
    "        ans='Python-QUIZ Lists (10 min.)-grades.xlsx'\n",
    "        result = Q2_function(filenames, s = \"Lists\")\n",
    "        \n",
    "        #Handling removal of the path to check only filename\n",
    "        self.assertEqual(ans,result.split(\"/\")[-1].split(\"\\\\\")[-1])\n",
    "        \n",
    "    def test_Q03_function(self):\n",
    "        result  = ['State', 'Started on', 'Completed', 'Time taken', 'Grade/45.00','Q. 1 /5.00', 'Q. 2 /10.00', 'Q. 3 /6.00', 'Q. 4 /6.00', 'Q. 5 /12.00','Q. 6 /6.00', 'id']\n",
    "        self.assertEqual(result,list(Q3_function(filenames, s = \"Functions\")))\n",
    "        pass\n",
    "        \n",
    "    def test_Q04_function(self):\n",
    "        \n",
    "        cols_ans=['State', 'Started on', 'Completed', 'Time taken', 'Grade/45.00', 'Q. 1 /5.00', 'Q. 2 /10.00', 'Q. 3 /6.00', 'Q. 4 /6.00', 'Q. 5 /12.00', 'Q. 6 /6.00',  'id']\n",
    "        subset_cols_ans= [\"id\", \"Time taken\", \"Grade/45.00\", \"Q. 1 /5.00\", \"Q. 2 /10.00\", \"Q. 3 /6.00\", \"Q. 4 /6.00\", \"Q. 5 /12.00\", \"Q. 6 /6.00\"]\n",
    "        top_ans=10\n",
    "        \n",
    "        cols_result,subset_result,top_result=Q4_function(functions_df)\n",
    "\n",
    "        self.assertEqual(cols_ans,list(cols_result))\n",
    "        self.assertEqual(subset_cols_ans,list(subset_result.columns))\n",
    "        self.assertEqual(top_ans,len(top_result))\n",
    "        \n",
    "    def test_Q05_function(self):        \n",
    "        column_types, Q5_df = Q5_function(df_subset)\n",
    "        Expected_colNames = ['id','Timetaken','Grade/45.00','Q.1/5.00','Q.2/10.00','Q.3/6.00','Q.4/6.00','Q.5/12.00','Q.6/6.00','time']\n",
    "        \n",
    "        self.assertEqual(Expected_colNames,list(column_types.index))\n",
    "        \n",
    "        \n",
    "    def test_Q07_function(self):\n",
    "        ans=(14.83,2.19,13.46,14.66,16.62,18.5,10.83) \n",
    "        result=Q7_function(file=\"Exceptions\")\n",
    "        self.assertEqual(ans, result)\n",
    "        \n",
    "    def test_Q07_function(self):\n",
    "        ansExpected = ['id', 'Grade/45.00','Q.1/5.00', 'Q.2/10.00', 'Q.3/6.00', 'Q.4/6.00', 'Q.5/12.00','Q.6/6.00','time']\n",
    "        self.assertEqual(ansExpected,list(Q6_df.columns))\n",
    "        \n",
    "    def test_Q08_function(self):\n",
    "        # it is plot\n",
    "        pass\n",
    "    \n",
    "    def test_Q09_function(self):\n",
    "        row, columns = Q9_function (file='Strings')\n",
    "        self.assertEqual(row,17)\n",
    "        self.assertEqual(columns,7)\n",
    "        \n",
    "    def test_Q10_function(self):\n",
    "        zero, maximum = Q10_function(Q6_df)\n",
    "\n",
    "        self.assertEqual(zero,list([9, 10, 13, 17, 18]))\n",
    "        self.assertEqual(maximum,12)\n",
    "        \n",
    "    def test_Q12_function(self):\n",
    "        ans=[3, 4, 7, 8, 12, 18]   \n",
    "        result=Q12_function(Q11_df)\n",
    "        self.assertEqual(ans, result)\n",
    "        \n",
    "    def test_Q11_functions(self):\n",
    "        Q11_df,max_scorer = Q11_function()\n",
    "        \n",
    "        self.assertEqual(max_scorer,10)\n",
    "    def test_Q13_function(self):\n",
    "        ans = [[15, 16, 17, 18], [12, 13, 14], [5, 6, 7, 8, 9, 10, 11], [3, 4], [0, 1, 2]]\n",
    "        temp = Q13_function(Q6_df)\n",
    "        result = [temp.iloc[x] for x in range(len(temp))]\n",
    "\n",
    "        \n",
    "        for x in range(len(ans)):\n",
    "            self.assertEqual(sum(result[x]), sum(ans[x]))\n",
    "            \n",
    "\n",
    "        \n",
    "unittest.main(argv=[''], verbosity=2, exit=False)"
   ]
  },
  {
   "cell_type": "code",
   "execution_count": null,
   "metadata": {},
   "outputs": [],
   "source": []
  }
 ],
 "metadata": {
  "celltoolbar": "Hide code",
  "hide_code_all_hidden": true,
  "kernelspec": {
   "display_name": "Python 3",
   "language": "python",
   "name": "python3"
  },
  "language_info": {
   "codemirror_mode": {
    "name": "ipython",
    "version": 3
   },
   "file_extension": ".py",
   "mimetype": "text/x-python",
   "name": "python",
   "nbconvert_exporter": "python",
   "pygments_lexer": "ipython3",
   "version": "3.7.0"
  }
 },
 "nbformat": 4,
 "nbformat_minor": 2
}
